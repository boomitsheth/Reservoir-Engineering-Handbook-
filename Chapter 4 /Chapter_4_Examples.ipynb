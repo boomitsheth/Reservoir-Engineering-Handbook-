{
  "nbformat": 4,
  "nbformat_minor": 0,
  "metadata": {
    "kernelspec": {
      "display_name": "Python 3",
      "language": "python",
      "name": "python3"
    },
    "language_info": {
      "codemirror_mode": {
        "name": "ipython",
        "version": 3
      },
      "file_extension": ".py",
      "mimetype": "text/x-python",
      "name": "python",
      "nbconvert_exporter": "python",
      "pygments_lexer": "ipython3",
      "version": "3.7.4"
    },
    "colab": {
      "name": "Chapter 4 Examples.ipynb",
      "provenance": [],
      "include_colab_link": true
    }
  },
  "cells": [
    {
      "cell_type": "markdown",
      "metadata": {
        "id": "view-in-github",
        "colab_type": "text"
      },
      "source": [
        "<a href=\"https://colab.research.google.com/github/boomitsheth/Reservoir-Engineering-Handbook-/blob/master/Chapter%204%20/Chapter_4_Examples.ipynb\" target=\"_parent\"><img src=\"https://colab.research.google.com/assets/colab-badge.svg\" alt=\"Open In Colab\"/></a>"
      ]
    },
    {
      "cell_type": "markdown",
      "metadata": {
        "id": "5_NxYDCU1xjS"
      },
      "source": [
        "# Example 4.1 Calculate the initial oil in place "
      ]
    },
    {
      "cell_type": "code",
      "metadata": {
        "id": "hd68x8vH1xjT"
      },
      "source": [
        "import numpy as np \n",
        "import pandas as pd\n",
        "import matplotlib.pyplot as plt \n",
        "import math"
      ],
      "execution_count": null,
      "outputs": []
    },
    {
      "cell_type": "code",
      "metadata": {
        "id": "VHvUjMJ11xjT",
        "outputId": "4df7102a-13d6-4204-c940-049552a505a8"
      },
      "source": [
        "#given \n",
        "reservoir_area = 640 #acres \n",
        "thickness = 10 #ft \n",
        "Swc = 0.25\n",
        "porosity = 0.15\n",
        "API = 42 #degree \n",
        "Pb = 3000 #psia \n",
        "temp = 160 #Fdegree \n",
        "Sg_gas = 0.65 \n",
        "Rs = 600 #gasoilratio\n",
        "\n",
        "Sg_oil = (141.5 / (API +131.5))\n",
        "print (\"Specific Gravity of the stock tank oil is\", Sg_oil)\n",
        "\n",
        "#using standing equation to calculate the initial oil formation volume factor \n",
        "Bo = 0.9759 + (0.00012 * math.pow((Rs * math.pow((Sg_gas / Sg_oil) ,0.5 )) + (1.25 * (temp)),1.2))\n",
        "print (\"Intial oil formation volume factor\", Bo) \n",
        "\n",
        "#calculate pore volume in bbls\n",
        "\n",
        "PV = 7758 * reservoir_area * thickness * porosity \n",
        "print (\" Pore Volume is\", PV)\n",
        "\n",
        "#calculate the initial oil in place \n",
        "\n",
        "OIIP = PV * ((1 - Swc) / Bo )\n",
        "print (\"Oil initially in place =\",OIIP)"
      ],
      "execution_count": null,
      "outputs": [
        {
          "output_type": "stream",
          "text": [
            "Specific Gravity of the stock tank oil is 0.8155619596541787\n",
            "Intial oil formation volume factor 1.3064105158492043\n",
            " Pore Volume is 7447680.0\n",
            "Oil initially in place = 4275654.499282024\n"
          ],
          "name": "stdout"
        }
      ]
    },
    {
      "cell_type": "markdown",
      "metadata": {
        "id": "WhwcrN-O1xjV"
      },
      "source": [
        "# Example 4.2 "
      ]
    },
    {
      "cell_type": "code",
      "metadata": {
        "id": "32ZsJpRZ1xjV",
        "outputId": "44c24969-6759-480d-f5d9-35471c7e8a08"
      },
      "source": [
        "'Calculate the arithmetic average and thickness weighted average porosity'\n",
        "table= pd.read_csv(\"F:\\Tarek Ahmed Reservoir Engineering Data\\Chapter 4 Fundamental of Rock Properties\\example4.2.csv\")\n",
        "table"
      ],
      "execution_count": null,
      "outputs": [
        {
          "output_type": "execute_result",
          "data": {
            "text/html": [
              "<div>\n",
              "<style scoped>\n",
              "    .dataframe tbody tr th:only-of-type {\n",
              "        vertical-align: middle;\n",
              "    }\n",
              "\n",
              "    .dataframe tbody tr th {\n",
              "        vertical-align: top;\n",
              "    }\n",
              "\n",
              "    .dataframe thead th {\n",
              "        text-align: right;\n",
              "    }\n",
              "</style>\n",
              "<table border=\"1\" class=\"dataframe\">\n",
              "  <thead>\n",
              "    <tr style=\"text-align: right;\">\n",
              "      <th></th>\n",
              "      <th>Sample</th>\n",
              "      <th>Thickness</th>\n",
              "      <th>Porosity</th>\n",
              "    </tr>\n",
              "  </thead>\n",
              "  <tbody>\n",
              "    <tr>\n",
              "      <td>0</td>\n",
              "      <td>1</td>\n",
              "      <td>1.0</td>\n",
              "      <td>10</td>\n",
              "    </tr>\n",
              "    <tr>\n",
              "      <td>1</td>\n",
              "      <td>2</td>\n",
              "      <td>1.5</td>\n",
              "      <td>12</td>\n",
              "    </tr>\n",
              "    <tr>\n",
              "      <td>2</td>\n",
              "      <td>3</td>\n",
              "      <td>1.0</td>\n",
              "      <td>11</td>\n",
              "    </tr>\n",
              "    <tr>\n",
              "      <td>3</td>\n",
              "      <td>4</td>\n",
              "      <td>2.0</td>\n",
              "      <td>13</td>\n",
              "    </tr>\n",
              "    <tr>\n",
              "      <td>4</td>\n",
              "      <td>5</td>\n",
              "      <td>2.1</td>\n",
              "      <td>14</td>\n",
              "    </tr>\n",
              "    <tr>\n",
              "      <td>5</td>\n",
              "      <td>6</td>\n",
              "      <td>1.1</td>\n",
              "      <td>10</td>\n",
              "    </tr>\n",
              "  </tbody>\n",
              "</table>\n",
              "</div>"
            ],
            "text/plain": [
              "   Sample   Thickness  Porosity \n",
              "0        1        1.0         10\n",
              "1        2        1.5         12\n",
              "2        3        1.0         11\n",
              "3        4        2.0         13\n",
              "4        5        2.1         14\n",
              "5        6        1.1         10"
            ]
          },
          "metadata": {
            "tags": []
          },
          "execution_count": 37
        }
      ]
    },
    {
      "cell_type": "code",
      "metadata": {
        "id": "4cMljPdQ1xjV",
        "outputId": "bb7c1991-2e39-496a-989a-607e1f9c5745"
      },
      "source": [
        "#Airthmetic Average Porosity \n",
        "table[\"Porosity \"].mean()"
      ],
      "execution_count": null,
      "outputs": [
        {
          "output_type": "execute_result",
          "data": {
            "text/plain": [
              "11.666666666666666"
            ]
          },
          "metadata": {
            "tags": []
          },
          "execution_count": 46
        }
      ]
    },
    {
      "cell_type": "code",
      "metadata": {
        "id": "8lPyMDBk1xjW",
        "outputId": "4b2ce815-b794-4dbe-904c-5b5ecad254b4"
      },
      "source": [
        "#Thickness Weighted Average Posority \n",
        "WAP = (table[\"Porosity \"] * table[\"Thickness\"]).sum() / table[\"Thickness\"].sum()\n",
        "WAP"
      ],
      "execution_count": null,
      "outputs": [
        {
          "output_type": "execute_result",
          "data": {
            "text/plain": [
              "12.114942528735634"
            ]
          },
          "metadata": {
            "tags": []
          },
          "execution_count": 51
        }
      ]
    },
    {
      "cell_type": "markdown",
      "metadata": {
        "id": "fFPPpHcJ1xjW"
      },
      "source": [
        "# Example 4.3 "
      ]
    },
    {
      "cell_type": "code",
      "metadata": {
        "id": "DB_K3wHu1xjW",
        "outputId": "56b40ea6-455b-4284-8bdd-07290c68bef9"
      },
      "source": [
        "data= pd.read_csv(\"F:\\Tarek Ahmed Reservoir Engineering Data\\Chapter 4 Fundamental of Rock Properties\\example4.3.csv\")\n",
        "data"
      ],
      "execution_count": null,
      "outputs": [
        {
          "output_type": "execute_result",
          "data": {
            "text/html": [
              "<div>\n",
              "<style scoped>\n",
              "    .dataframe tbody tr th:only-of-type {\n",
              "        vertical-align: middle;\n",
              "    }\n",
              "\n",
              "    .dataframe tbody tr th {\n",
              "        vertical-align: top;\n",
              "    }\n",
              "\n",
              "    .dataframe thead th {\n",
              "        text-align: right;\n",
              "    }\n",
              "</style>\n",
              "<table border=\"1\" class=\"dataframe\">\n",
              "  <thead>\n",
              "    <tr style=\"text-align: right;\">\n",
              "      <th></th>\n",
              "      <th>sample</th>\n",
              "      <th>Hi</th>\n",
              "      <th>porosity</th>\n",
              "      <th>Sor</th>\n",
              "      <th>Swcr</th>\n",
              "    </tr>\n",
              "  </thead>\n",
              "  <tbody>\n",
              "    <tr>\n",
              "      <td>0</td>\n",
              "      <td>1</td>\n",
              "      <td>1.0</td>\n",
              "      <td>10</td>\n",
              "      <td>75</td>\n",
              "      <td>24</td>\n",
              "    </tr>\n",
              "    <tr>\n",
              "      <td>1</td>\n",
              "      <td>2</td>\n",
              "      <td>1.5</td>\n",
              "      <td>12</td>\n",
              "      <td>77</td>\n",
              "      <td>23</td>\n",
              "    </tr>\n",
              "    <tr>\n",
              "      <td>2</td>\n",
              "      <td>3</td>\n",
              "      <td>1.0</td>\n",
              "      <td>11</td>\n",
              "      <td>79</td>\n",
              "      <td>21</td>\n",
              "    </tr>\n",
              "    <tr>\n",
              "      <td>3</td>\n",
              "      <td>4</td>\n",
              "      <td>2.0</td>\n",
              "      <td>13</td>\n",
              "      <td>74</td>\n",
              "      <td>26</td>\n",
              "    </tr>\n",
              "    <tr>\n",
              "      <td>4</td>\n",
              "      <td>5</td>\n",
              "      <td>2.1</td>\n",
              "      <td>14</td>\n",
              "      <td>78</td>\n",
              "      <td>22</td>\n",
              "    </tr>\n",
              "    <tr>\n",
              "      <td>5</td>\n",
              "      <td>6</td>\n",
              "      <td>1.1</td>\n",
              "      <td>10</td>\n",
              "      <td>75</td>\n",
              "      <td>25</td>\n",
              "    </tr>\n",
              "  </tbody>\n",
              "</table>\n",
              "</div>"
            ],
            "text/plain": [
              "   sample   Hi  porosity   Sor  Swcr\n",
              "0       1  1.0         10   75    24\n",
              "1       2  1.5         12   77    23\n",
              "2       3  1.0         11   79    21\n",
              "3       4  2.0         13   74    26\n",
              "4       5  2.1         14   78    22\n",
              "5       6  1.1         10   75    25"
            ]
          },
          "metadata": {
            "tags": []
          },
          "execution_count": 60
        }
      ]
    },
    {
      "cell_type": "code",
      "metadata": {
        "id": "BAwEY3CC1xjX",
        "outputId": "dbfc4de0-bc2c-4246-ea29-32585659a8dc"
      },
      "source": [
        "data['hiporosity'] = data['Hi'] * ( data['porosity '] / 100 )\n",
        "data['SoHiPor'] = ( data['Sor'] / 100 ) * data['hiporosity']\n",
        "data['Swc*HiPor'] = ( data['Swcr'] / 100 ) * data['hiporosity']\n",
        "x= data['hiporosity'].sum()\n",
        "y= data['SoHiPor'].sum()\n",
        "z= data['Swc*HiPor'].sum()\n",
        "data"
      ],
      "execution_count": null,
      "outputs": [
        {
          "output_type": "execute_result",
          "data": {
            "text/html": [
              "<div>\n",
              "<style scoped>\n",
              "    .dataframe tbody tr th:only-of-type {\n",
              "        vertical-align: middle;\n",
              "    }\n",
              "\n",
              "    .dataframe tbody tr th {\n",
              "        vertical-align: top;\n",
              "    }\n",
              "\n",
              "    .dataframe thead th {\n",
              "        text-align: right;\n",
              "    }\n",
              "</style>\n",
              "<table border=\"1\" class=\"dataframe\">\n",
              "  <thead>\n",
              "    <tr style=\"text-align: right;\">\n",
              "      <th></th>\n",
              "      <th>sample</th>\n",
              "      <th>Hi</th>\n",
              "      <th>porosity</th>\n",
              "      <th>Sor</th>\n",
              "      <th>Swcr</th>\n",
              "      <th>hiporosity</th>\n",
              "      <th>SoHiPor</th>\n",
              "      <th>Swc*HiPor</th>\n",
              "    </tr>\n",
              "  </thead>\n",
              "  <tbody>\n",
              "    <tr>\n",
              "      <td>0</td>\n",
              "      <td>1</td>\n",
              "      <td>1.0</td>\n",
              "      <td>10</td>\n",
              "      <td>75</td>\n",
              "      <td>24</td>\n",
              "      <td>0.100</td>\n",
              "      <td>0.07500</td>\n",
              "      <td>0.02400</td>\n",
              "    </tr>\n",
              "    <tr>\n",
              "      <td>1</td>\n",
              "      <td>2</td>\n",
              "      <td>1.5</td>\n",
              "      <td>12</td>\n",
              "      <td>77</td>\n",
              "      <td>23</td>\n",
              "      <td>0.180</td>\n",
              "      <td>0.13860</td>\n",
              "      <td>0.04140</td>\n",
              "    </tr>\n",
              "    <tr>\n",
              "      <td>2</td>\n",
              "      <td>3</td>\n",
              "      <td>1.0</td>\n",
              "      <td>11</td>\n",
              "      <td>79</td>\n",
              "      <td>21</td>\n",
              "      <td>0.110</td>\n",
              "      <td>0.08690</td>\n",
              "      <td>0.02310</td>\n",
              "    </tr>\n",
              "    <tr>\n",
              "      <td>3</td>\n",
              "      <td>4</td>\n",
              "      <td>2.0</td>\n",
              "      <td>13</td>\n",
              "      <td>74</td>\n",
              "      <td>26</td>\n",
              "      <td>0.260</td>\n",
              "      <td>0.19240</td>\n",
              "      <td>0.06760</td>\n",
              "    </tr>\n",
              "    <tr>\n",
              "      <td>4</td>\n",
              "      <td>5</td>\n",
              "      <td>2.1</td>\n",
              "      <td>14</td>\n",
              "      <td>78</td>\n",
              "      <td>22</td>\n",
              "      <td>0.294</td>\n",
              "      <td>0.22932</td>\n",
              "      <td>0.06468</td>\n",
              "    </tr>\n",
              "    <tr>\n",
              "      <td>5</td>\n",
              "      <td>6</td>\n",
              "      <td>1.1</td>\n",
              "      <td>10</td>\n",
              "      <td>75</td>\n",
              "      <td>25</td>\n",
              "      <td>0.110</td>\n",
              "      <td>0.08250</td>\n",
              "      <td>0.02750</td>\n",
              "    </tr>\n",
              "  </tbody>\n",
              "</table>\n",
              "</div>"
            ],
            "text/plain": [
              "   sample   Hi  porosity   Sor  Swcr  hiporosity  SoHiPor  Swc*HiPor\n",
              "0       1  1.0         10   75    24       0.100  0.07500    0.02400\n",
              "1       2  1.5         12   77    23       0.180  0.13860    0.04140\n",
              "2       3  1.0         11   79    21       0.110  0.08690    0.02310\n",
              "3       4  2.0         13   74    26       0.260  0.19240    0.06760\n",
              "4       5  2.1         14   78    22       0.294  0.22932    0.06468\n",
              "5       6  1.1         10   75    25       0.110  0.08250    0.02750"
            ]
          },
          "metadata": {
            "tags": []
          },
          "execution_count": 75
        }
      ]
    },
    {
      "cell_type": "code",
      "metadata": {
        "id": "TcCHca251xjX",
        "outputId": "f08badab-1def-4a46-945a-0b809ae550de"
      },
      "source": [
        "#Calculate Average Oil Saturation \n",
        "So= y/ x \n",
        "So "
      ],
      "execution_count": null,
      "outputs": [
        {
          "output_type": "execute_result",
          "data": {
            "text/plain": [
              "0.7634914611005693"
            ]
          },
          "metadata": {
            "tags": []
          },
          "execution_count": 79
        }
      ]
    },
    {
      "cell_type": "code",
      "metadata": {
        "id": "Dw5kc4-E1xjX"
      },
      "source": [
        "# Calculate Average Water Saturation \n",
        "S"
      ],
      "execution_count": null,
      "outputs": []
    }
  ]
}